{
 "metadata": {
  "name": "",
  "signature": "sha256:5be126f4d98ddec500435b08bd7682aac5fa6791f9c97135964caf761fdf6749"
 },
 "nbformat": 3,
 "nbformat_minor": 0,
 "worksheets": [
  {
   "cells": [
    {
     "cell_type": "markdown",
     "metadata": {},
     "source": [
      "# Python Guide"
     ]
    },
    {
     "cell_type": "markdown",
     "metadata": {},
     "source": [
      "## Installation\n",
      "\n",
      "First get *pyenv* with [pyenv-installer](https://github.com/yyuu/pyenv-installer). Then run:\n",
      "\n",
      "```\n",
      "pyenv install 3.3.4\n",
      "pyenv shell 3.3.4\n",
      "pip install -r requirements.txt\n",
      "```\n",
      "\n",
      "And to start the notebook, `ipython3 notebook`. A web page will open in the browser, from where you can open, edit and create notebooks.\n",
      "\n",
      "## Packages\n",
      "\n",
      "pandas, ggplot2, other visualization packages, sklearn, etc\n",
      "\n",
      "## Links\n",
      "\n",
      "- http://ipython.org/ipython-doc/dev/whatsnew/version2.0.html\n",
      "- http://nbviewer.ipython.org/github/ipython/ipython/blob/1.x/examples/notebooks/Part%205%20-%20Rich%20Display%20System.ipynb\n",
      "- http://schoolofdata.org/2013/07/07/exploratory-data-analysis-a-short-example-using-world-bank-indicator-data/"
     ]
    },
    {
     "cell_type": "code",
     "collapsed": false,
     "input": [],
     "language": "python",
     "metadata": {},
     "outputs": []
    }
   ],
   "metadata": {}
  }
 ]
}
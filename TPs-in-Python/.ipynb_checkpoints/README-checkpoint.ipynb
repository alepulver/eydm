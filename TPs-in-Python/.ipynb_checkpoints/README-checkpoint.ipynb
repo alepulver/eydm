{
 "metadata": {
  "name": "",
  "signature": "sha256:727b2ba6444da77ccf26e84bcd7ed6e7a34d1c559ddc3372e04e222ec44fa07d"
 },
 "nbformat": 3,
 "nbformat_minor": 0,
 "worksheets": []
}